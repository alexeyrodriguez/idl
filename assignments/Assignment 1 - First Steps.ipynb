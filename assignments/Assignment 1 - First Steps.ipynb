{
 "cells": [
  {
   "cell_type": "markdown",
   "metadata": {},
   "source": [
    "# Assignment\n",
    "\n",
    "Source: https://mlcogup.github.io/idl2017/ass1.html"
   ]
  },
  {
   "cell_type": "code",
   "execution_count": 103,
   "metadata": {},
   "outputs": [],
   "source": [
    "%matplotlib inline\n",
    "\n",
    "import numpy as np\n",
    "import matplotlib.pyplot as plt\n",
    "plt.rcParams['figure.figsize'] = (7,7) # Make the figures a bit bigger\n",
    "\n",
    "import tensorflow as tf"
   ]
  },
  {
   "cell_type": "code",
   "execution_count": 104,
   "metadata": {},
   "outputs": [
    {
     "name": "stdout",
     "output_type": "stream",
     "text": [
      "Extracting MNIST_data/train-images-idx3-ubyte.gz\n",
      "Extracting MNIST_data/train-labels-idx1-ubyte.gz\n",
      "Extracting MNIST_data/t10k-images-idx3-ubyte.gz\n",
      "Extracting MNIST_data/t10k-labels-idx1-ubyte.gz\n"
     ]
    }
   ],
   "source": [
    "from tensorflow.examples.tutorials.mnist import input_data\n",
    "mnist = input_data.read_data_sets(\"MNIST_data/\", one_hot=True)"
   ]
  },
  {
   "cell_type": "code",
   "execution_count": 105,
   "metadata": {},
   "outputs": [
    {
     "data": {
      "text/plain": [
       "((55000, 784), (10000, 784), (5000, 784))"
      ]
     },
     "execution_count": 105,
     "metadata": {},
     "output_type": "execute_result"
    }
   ],
   "source": [
    "mnist.train.images.shape, mnist.test.images.shape, mnist.validation.images.shape"
   ]
  },
  {
   "cell_type": "markdown",
   "metadata": {},
   "source": [
    "# Building a classification model"
   ]
  },
  {
   "cell_type": "code",
   "execution_count": 106,
   "metadata": {},
   "outputs": [],
   "source": [
    "# Visualize 9 mnist digits, very hard coded, ugh\n",
    "def show9(res):\n",
    "    for i in range(9):\n",
    "        img = mnist.test.images[res][i].reshape([28, 28])\n",
    "        lab = mnist.test.labels[res][i]\n",
    "        lab = list(lab).index(1.)\n",
    "\n",
    "        plt.subplot(3,3,i+1)\n",
    "        plt.imshow(img, cmap='gray', interpolation='none')\n",
    "        plt.title(\"Class {}\".format(lab))\n",
    "        \n",
    "    \n",
    "def variable_summaries(var):\n",
    "  \"\"\"Attach a lot of summaries to a Tensor (for TensorBoard visualization).\"\"\"\n",
    "  with tf.name_scope('summaries'):\n",
    "    mean = tf.reduce_mean(var)\n",
    "    tf.summary.scalar('mean', mean)\n",
    "    with tf.name_scope('stddev'):\n",
    "      stddev = tf.sqrt(tf.reduce_mean(tf.square(var - mean)))\n",
    "    tf.summary.scalar('stddev', stddev)\n",
    "    tf.summary.scalar('max', tf.reduce_max(var))\n",
    "    tf.summary.scalar('min', tf.reduce_min(var))\n",
    "    tf.summary.histogram('histogram', var)"
   ]
  },
  {
   "cell_type": "code",
   "execution_count": 107,
   "metadata": {},
   "outputs": [],
   "source": [
    "# From Aylien's blog https://github.com/AYLIEN/gan-intro/blob/master/gan.py\n",
    "\n",
    "def linear(input, output_dim, scope=None, stddev=1.0):\n",
    "    with tf.variable_scope(scope or 'linear'):\n",
    "        with tf.variable_scope('weights'):\n",
    "            w = tf.get_variable(\n",
    "                'w',\n",
    "                [input.get_shape()[1], output_dim],\n",
    "                initializer=tf.random_normal_initializer(stddev=stddev)\n",
    "            )\n",
    "            variable_summaries(w)\n",
    "        with tf.variable_scope('bias'):\n",
    "            b = tf.get_variable(\n",
    "                'b',\n",
    "                [output_dim],\n",
    "                initializer=tf.constant_initializer(0.5)\n",
    "            )\n",
    "            variable_summaries(b)\n",
    "        return tf.matmul(input, w) + b, w, b\n"
   ]
  },
  {
   "cell_type": "code",
   "execution_count": 132,
   "metadata": {},
   "outputs": [],
   "source": [
    "def classify_mnist():\n",
    "    train_inputs = tf.placeholder(tf.float32, shape=[None, 784])\n",
    "    train_outputs = tf.placeholder(tf.float32, shape=[None, 10])\n",
    "\n",
    "    with tf.variable_scope('G'):\n",
    "        layer_next, _, _ = linear(train_inputs, 10, 'd0', stddev=0.1)\n",
    "\n",
    "    predicted = tf.nn.softmax(layer_next)\n",
    "\n",
    "    cross_entropy = tf.nn.softmax_cross_entropy_with_logits(labels=train_outputs, logits=layer_next)\n",
    "    cross_entropy = tf.reduce_mean(cross_entropy)\n",
    "\n",
    "    # Metrics\n",
    "    correct_prediction = tf.equal(tf.argmax(predicted, 1), tf.argmax(train_outputs, 1))\n",
    "    accuracy = tf.reduce_mean(tf.cast(correct_prediction, tf.float32))\n",
    "\n",
    "    return train_inputs, train_outputs, cross_entropy, accuracy, predicted, correct_prediction"
   ]
  },
  {
   "cell_type": "code",
   "execution_count": 112,
   "metadata": {},
   "outputs": [],
   "source": [
    "def my_optimize(sess, train, Xs, Ys, loss, name='train', steps=1000, optimizer=tf.train.GradientDescentOptimizer(0.5), dict={}, batch_size=100):\n",
    "    train_step = optimizer.minimize(loss)\n",
    "    \n",
    "    # Merge all the summaries and write them out to /tmp/mnist_logs (by default)\n",
    "    merged = tf.summary.merge_all()\n",
    "    train_writer = tf.summary.FileWriter('mnist_logs/%s' % name, sess.graph)\n",
    "    \n",
    "    for g, v in optimizer.compute_gradients(loss):\n",
    "        #tf.summary.scalar(\"grad_{}\".format(v.name), tf.norm(g))\n",
    "        #merged = tf.Print(merged, [tf.norm(g)], message=\"grad_{}\".format(v.name))\n",
    "        pass\n",
    "    \n",
    "    sess.run(tf.global_variables_initializer())\n",
    "\n",
    "    for i in range(steps):\n",
    "        batch_xs, batch_ys = train.next_batch(batch_size)\n",
    "        dict = dict.copy()# Avoid getting the keys from a different graph\n",
    "        dict[Xs] = batch_xs\n",
    "        dict[Ys] = batch_ys\n",
    "        summary, _ = sess.run([merged, train_step], feed_dict=dict)\n",
    "        train_writer.add_summary(summary, i)\n",
    "        \n",
    "    train_writer.close()"
   ]
  },
  {
   "cell_type": "code",
   "execution_count": 133,
   "metadata": {},
   "outputs": [
    {
     "name": "stdout",
     "output_type": "stream",
     "text": [
      "0.9233\n"
     ]
    }
   ],
   "source": [
    "g = tf.Graph()\n",
    "with g.as_default():\n",
    "    with tf.Session() as sess:\n",
    "        Xs, Ys, loss, accuracy, prediction, correct_prediction = classify_mnist()\n",
    "    \n",
    "        my_optimize(sess, mnist.train, Xs, Ys, loss, steps=10000, name='train-2')\n",
    "        \n",
    "        # Testing accuracy\n",
    "        acc = sess.run(accuracy, feed_dict={Xs: mnist.test.images, Ys: mnist.test.labels})\n",
    "        print acc\n",
    "        \n",
    "        res = sess.run(correct_prediction, feed_dict={Xs: mnist.test.images, Ys: mnist.test.labels})"
   ]
  },
  {
   "cell_type": "code",
   "execution_count": 134,
   "metadata": {},
   "outputs": [
    {
     "data": {
      "image/png": "[encoded data removed]",
      "text/plain": [
       "<matplotlib.figure.Figure at 0x7f7e8b2d7c10>"
      ]
     },
     "metadata": {},
     "output_type": "display_data"
    }
   ],
   "source": [
    "show9(~res)"
   ]
  },
  {
   "cell_type": "code",
   "execution_count": 135,
   "metadata": {},
   "outputs": [
    {
     "data": {
      "image/png": "[encoded data removed]",
      "text/plain": [
       "<matplotlib.figure.Figure at 0x7f7e4e89ddd0>"
      ]
     },
     "metadata": {},
     "output_type": "display_data"
    }
   ],
   "source": [
    "show9(res)"
   ]
  },
  {
   "cell_type": "markdown",
   "metadata": {},
   "source": [
    "## MNIST with a hidden layer (and more)"
   ]
  },
  {
   "cell_type": "code",
   "execution_count": 139,
   "metadata": {},
   "outputs": [],
   "source": [
    "def classify_mnist_hidden(beta=0.0, use_relu=None, hidden_sizes=[20]):\n",
    "    train_inputs = tf.placeholder(tf.float32, shape=[None, 784])\n",
    "    train_outputs = tf.placeholder(tf.float32, shape=[None, 10])\n",
    "\n",
    "    with tf.variable_scope('G'):\n",
    "        \n",
    "        with tf.variable_scope('train_inputs'):\n",
    "            variable_summaries(train_inputs)\n",
    "        \n",
    "        layer_next = train_inputs\n",
    "        \n",
    "        for ix, hidden_size in enumerate(hidden_sizes):\n",
    "            layer_next, w1, _ = linear(layer_next, hidden_size, 'd%d' % ix, stddev=0.1)\n",
    "            if use_relu:\n",
    "                layer_next = tf.nn.relu(layer_next, 'd%d_2' % ix)\n",
    "\n",
    "        layer_next, w2, _ = linear(layer_next, 10, 'd_out', stddev=0.1)\n",
    "\n",
    "        predicted = tf.nn.softmax(layer_next)\n",
    "\n",
    "        l2_loss = (tf.nn.l2_loss(w1) + tf.nn.l2_loss(w2)) * beta\n",
    "        cross_entropy = tf.nn.softmax_cross_entropy_with_logits(labels=train_outputs, logits=layer_next)\n",
    "        # Average cross_entropy\n",
    "        cross_entropy = tf.reduce_mean(cross_entropy)\n",
    "    \n",
    "        with tf.variable_scope('l2_loss'):\n",
    "            variable_summaries(l2_loss)\n",
    "        \n",
    "        with tf.variable_scope('cross_entropy'):\n",
    "            variable_summaries(cross_entropy)\n",
    "\n",
    "        with tf.variable_scope('predicted'):\n",
    "            variable_summaries(predicted)\n",
    "            \n",
    "    # Metrics\n",
    "    correct_prediction = tf.equal(tf.argmax(predicted, 1), tf.argmax(train_outputs, 1))\n",
    "    accuracy = tf.reduce_mean(tf.cast(correct_prediction, tf.float32))\n",
    "\n",
    "    return train_inputs, train_outputs, cross_entropy+l2_loss, accuracy, predicted, correct_prediction"
   ]
  },
  {
   "cell_type": "code",
   "execution_count": 140,
   "metadata": {},
   "outputs": [
    {
     "name": "stdout",
     "output_type": "stream",
     "text": [
      "0.9207\n"
     ]
    }
   ],
   "source": [
    "g = tf.Graph()\n",
    "with g.as_default():\n",
    "    with tf.Session() as sess:\n",
    "        Xs, Ys, loss, accuracy, prediction, correct_prediction = classify_mnist_hidden()\n",
    "    \n",
    "        my_optimize(sess, mnist.train, Xs, Ys, loss, steps=10000, name='train-34',\n",
    "                    optimizer=tf.train.GradientDescentOptimizer(0.05))\n",
    "        \n",
    "        # Testing accuracy\n",
    "        acc = sess.run(accuracy, feed_dict={Xs: mnist.test.images, Ys: mnist.test.labels})\n",
    "        print acc"
   ]
  },
  {
   "cell_type": "markdown",
   "metadata": {},
   "source": [
    "As can be seen below, the addition of a relu to the network improves the performance:"
   ]
  },
  {
   "cell_type": "code",
   "execution_count": 141,
   "metadata": {},
   "outputs": [
    {
     "name": "stdout",
     "output_type": "stream",
     "text": [
      "0.9484\n"
     ]
    }
   ],
   "source": [
    "g = tf.Graph()\n",
    "with g.as_default():\n",
    "    with tf.Session() as sess:\n",
    "        Xs, Ys, loss, accuracy, prediction, correct_prediction = classify_mnist_hidden(use_relu=True)\n",
    "\n",
    "        my_optimize(sess, mnist.train, Xs, Ys, loss, steps=10000, name='train-34',\n",
    "                    optimizer=tf.train.GradientDescentOptimizer(0.05))\n",
    "        \n",
    "        # Testing accuracy\n",
    "        acc = sess.run(accuracy, feed_dict={Xs: mnist.test.images, Ys: mnist.test.labels})\n",
    "        print acc"
   ]
  },
  {
   "cell_type": "code",
   "execution_count": 142,
   "metadata": {},
   "outputs": [
    {
     "name": "stdout",
     "output_type": "stream",
     "text": [
      "0.9597\n"
     ]
    }
   ],
   "source": [
    "g = tf.Graph()\n",
    "with g.as_default():\n",
    "    with tf.Session() as sess:\n",
    "        Xs, Ys, loss, accuracy, prediction, correct_prediction = classify_mnist_hidden(use_relu=True, hidden_sizes=[50])\n",
    "    \n",
    "        my_optimize(sess, mnist.train, Xs, Ys, loss, steps=10000, name='train-34',\n",
    "                    optimizer=tf.train.GradientDescentOptimizer(0.05))\n",
    "        \n",
    "        # Testing accuracy\n",
    "        acc = sess.run(accuracy, feed_dict={Xs: mnist.test.images, Ys: mnist.test.labels})\n",
    "        print acc"
   ]
  },
  {
   "cell_type": "code",
   "execution_count": 143,
   "metadata": {},
   "outputs": [
    {
     "name": "stdout",
     "output_type": "stream",
     "text": [
      "0.9715\n"
     ]
    }
   ],
   "source": [
    "g = tf.Graph()\n",
    "with g.as_default():\n",
    "    with tf.Session() as sess:\n",
    "        Xs, Ys, loss, accuracy, prediction, correct_prediction = classify_mnist_hidden(use_relu=True, hidden_sizes=[512])\n",
    "    \n",
    "        my_optimize(sess, mnist.train, Xs, Ys, loss, steps=10000, name='train-34',\n",
    "                    optimizer=tf.train.GradientDescentOptimizer(0.05))\n",
    "        \n",
    "        # Testing accuracy\n",
    "        acc = sess.run(accuracy, feed_dict={Xs: mnist.test.images, Ys: mnist.test.labels})\n",
    "        print acc"
   ]
  },
  {
   "cell_type": "code",
   "execution_count": 147,
   "metadata": {},
   "outputs": [
    {
     "name": "stdout",
     "output_type": "stream",
     "text": [
      "0.9757\n"
     ]
    }
   ],
   "source": [
    "g = tf.Graph()\n",
    "with g.as_default():\n",
    "    with tf.Session() as sess:\n",
    "        Xs, Ys, loss, accuracy, prediction, correct_prediction = classify_mnist_hidden(use_relu=True, hidden_sizes=[512, 512])\n",
    "    \n",
    "        my_optimize(sess, mnist.train, Xs, Ys, loss, steps=10000, name='train-34',\n",
    "                    optimizer=tf.train.GradientDescentOptimizer(0.05))\n",
    "        \n",
    "        # Testing accuracy\n",
    "        acc = sess.run(accuracy, feed_dict={Xs: mnist.test.images, Ys: mnist.test.labels})\n",
    "        print acc\n",
    "        \n",
    "        res = sess.run(correct_prediction, feed_dict={Xs: mnist.test.images, Ys: mnist.test.labels})"
   ]
  },
  {
   "cell_type": "code",
   "execution_count": 148,
   "metadata": {},
   "outputs": [
    {
     "data": {
      "image/png": "[encoded data removed]",
      "text/plain": [
       "<matplotlib.figure.Figure at 0x7f7e4ba0ec50>"
      ]
     },
     "metadata": {},
     "output_type": "display_data"
    }
   ],
   "source": [
    "show9(~res)"
   ]
  },
  {
   "cell_type": "code",
   "execution_count": 149,
   "metadata": {},
   "outputs": [
    {
     "data": {
      "image/png": "[encoded data removed]",
      "text/plain": [
       "<matplotlib.figure.Figure at 0x7f7e4ba0e790>"
      ]
     },
     "metadata": {},
     "output_type": "display_data"
    }
   ],
   "source": [
    "show9(res)"
   ]
  },
  {
   "cell_type": "markdown",
   "metadata": {},
   "source": [
    "Example of multi-layer network in Keras:\n",
    "\n",
    "https://github.com/wxs/keras-mnist-tutorial/blob/master/MNIST%20in%20Keras.ipynb"
   ]
  },
  {
   "cell_type": "code",
   "execution_count": null,
   "metadata": {
    "collapsed": true
   },
   "outputs": [],
   "source": []
  }
 ],
 "metadata": {
  "kernelspec": {
   "display_name": "Python 2",
   "language": "python",
   "name": "python2"
  },
  "language_info": {
   "codemirror_mode": {
    "name": "ipython",
    "version": 2
   },
   "file_extension": ".py",
   "mimetype": "text/x-python",
   "name": "python",
   "nbconvert_exporter": "python",
   "pygments_lexer": "ipython2",
   "version": "2.7.12"
  }
 },
 "nbformat": 4,
 "nbformat_minor": 2
}
