{
 "cells": [
  {
   "cell_type": "code",
   "execution_count": 7,
   "metadata": {},
   "outputs": [],
   "source": [
    "%matplotlib inline\n",
    "\n",
    "import numpy as np\n",
    "import pandas as pd\n",
    "import matplotlib.pyplot as plt\n",
    "plt.rcParams['figure.figsize'] = (7,7) # Make the figures a bit bigger\n",
    "\n",
    "import tensorflow as tf"
   ]
  },
  {
   "cell_type": "code",
   "execution_count": 4,
   "metadata": {},
   "outputs": [
    {
     "name": "stdout",
     "output_type": "stream",
     "text": [
      "  % Total    % Received % Xferd  Average Speed   Time    Time     Time  Current\n",
      "                                 Dload  Upload   Total   Spent    Left  Speed\n",
      "  0     0    0     0    0     0      0      0 --:--:--  0:00:55 --:--:--     0  0 --:--:--  0:00:38 --:--:--     0curl: (6) Could not resolve host: commondatastorage.googleapis.com\n"
     ]
    }
   ],
   "source": [
    "!curl -L -o will_play_text.csv https://commondatastorage.googleapis.com/ckannet-storage/2012-04-24T183403/will_play_text.csv"
   ]
  },
  {
   "cell_type": "code",
   "execution_count": 5,
   "metadata": {},
   "outputs": [
    {
     "name": "stdout",
     "output_type": "stream",
     "text": [
      "Assignment 1 - First Steps.ipynb  RNN 1.ipynb  will_play_text.csv\r\n",
      "MNIST_data\t\t\t  mnist_logs\r\n"
     ]
    }
   ],
   "source": [
    "!ls"
   ]
  },
  {
   "cell_type": "code",
   "execution_count": 9,
   "metadata": {},
   "outputs": [
    {
     "name": "stdout",
     "output_type": "stream",
     "text": [
      "\"1\";\"Henry IV\";;;;\"ACT I\"\r",
      "\r\n",
      "\"2\";\"Henry IV\";;;;\"SCENE I. London. The palace.\"\r",
      "\r\n",
      "\"3\";\"Henry IV\";;;;\"Enter KING HENRY, LORD JOHN OF LANCASTER, the EARL of WESTMORELAND, SIR WALTER BLUNT, and others\"\r",
      "\r\n",
      "\"4\";\"Henry IV\";\"1\";\"1.1.1\";\"KING HENRY IV\";\"So shaken as we are, so wan with care,\"\r",
      "\r\n",
      "\"5\";\"Henry IV\";\"1\";\"1.1.2\";\"KING HENRY IV\";\"Find we a time for frighted peace to pant,\"\r",
      "\r\n",
      "\"6\";\"Henry IV\";\"1\";\"1.1.3\";\"KING HENRY IV\";\"And breathe short-winded accents of new broils\"\r",
      "\r\n",
      "\"7\";\"Henry IV\";\"1\";\"1.1.4\";\"KING HENRY IV\";\"To be commenced in strands afar remote.\"\r",
      "\r\n",
      "\"8\";\"Henry IV\";\"1\";\"1.1.5\";\"KING HENRY IV\";\"No more the thirsty entrance of this soil\"\r",
      "\r\n",
      "\"9\";\"Henry IV\";\"1\";\"1.1.6\";\"KING HENRY IV\";\"Shall daub her lips with her own children's blood;\"\r",
      "\r\n",
      "\"10\";\"Henry IV\";\"1\";\"1.1.7\";\"KING HENRY IV\";\"Nor more shall trenching war channel her fields,\"\r",
      "\r\n"
     ]
    }
   ],
   "source": [
    "!head will_play_text.csv"
   ]
  },
  {
   "cell_type": "code",
   "execution_count": 16,
   "metadata": {},
   "outputs": [],
   "source": [
    "df = pd.read_csv('will_play_text.csv', sep=';', header=None, names=['row', 'piece', 'chapter', 'section', 'character', 'line'])"
   ]
  },
  {
   "cell_type": "code",
   "execution_count": 17,
   "metadata": {},
   "outputs": [
    {
     "data": {
      "text/html": [
       "<div>\n",
       "<style scoped>\n",
       "    .dataframe tbody tr th:only-of-type {\n",
       "        vertical-align: middle;\n",
       "    }\n",
       "\n",
       "    .dataframe tbody tr th {\n",
       "        vertical-align: top;\n",
       "    }\n",
       "\n",
       "    .dataframe thead th {\n",
       "        text-align: right;\n",
       "    }\n",
       "</style>\n",
       "<table border=\"1\" class=\"dataframe\">\n",
       "  <thead>\n",
       "    <tr style=\"text-align: right;\">\n",
       "      <th></th>\n",
       "      <th>row</th>\n",
       "      <th>piece</th>\n",
       "      <th>chapter</th>\n",
       "      <th>section</th>\n",
       "      <th>character</th>\n",
       "      <th>line</th>\n",
       "    </tr>\n",
       "  </thead>\n",
       "  <tbody>\n",
       "    <tr>\n",
       "      <th>0</th>\n",
       "      <td>1</td>\n",
       "      <td>Henry IV</td>\n",
       "      <td>NaN</td>\n",
       "      <td>NaN</td>\n",
       "      <td>NaN</td>\n",
       "      <td>ACT I</td>\n",
       "    </tr>\n",
       "    <tr>\n",
       "      <th>1</th>\n",
       "      <td>2</td>\n",
       "      <td>Henry IV</td>\n",
       "      <td>NaN</td>\n",
       "      <td>NaN</td>\n",
       "      <td>NaN</td>\n",
       "      <td>SCENE I. London. The palace.</td>\n",
       "    </tr>\n",
       "    <tr>\n",
       "      <th>2</th>\n",
       "      <td>3</td>\n",
       "      <td>Henry IV</td>\n",
       "      <td>NaN</td>\n",
       "      <td>NaN</td>\n",
       "      <td>NaN</td>\n",
       "      <td>Enter KING HENRY, LORD JOHN OF LANCASTER, the ...</td>\n",
       "    </tr>\n",
       "    <tr>\n",
       "      <th>3</th>\n",
       "      <td>4</td>\n",
       "      <td>Henry IV</td>\n",
       "      <td>1.0</td>\n",
       "      <td>1.1.1</td>\n",
       "      <td>KING HENRY IV</td>\n",
       "      <td>So shaken as we are, so wan with care,</td>\n",
       "    </tr>\n",
       "    <tr>\n",
       "      <th>4</th>\n",
       "      <td>5</td>\n",
       "      <td>Henry IV</td>\n",
       "      <td>1.0</td>\n",
       "      <td>1.1.2</td>\n",
       "      <td>KING HENRY IV</td>\n",
       "      <td>Find we a time for frighted peace to pant,</td>\n",
       "    </tr>\n",
       "  </tbody>\n",
       "</table>\n",
       "</div>"
      ],
      "text/plain": [
       "   row     piece  chapter section      character  \\\n",
       "0    1  Henry IV      NaN     NaN            NaN   \n",
       "1    2  Henry IV      NaN     NaN            NaN   \n",
       "2    3  Henry IV      NaN     NaN            NaN   \n",
       "3    4  Henry IV      1.0   1.1.1  KING HENRY IV   \n",
       "4    5  Henry IV      1.0   1.1.2  KING HENRY IV   \n",
       "\n",
       "                                                line  \n",
       "0                                              ACT I  \n",
       "1                       SCENE I. London. The palace.  \n",
       "2  Enter KING HENRY, LORD JOHN OF LANCASTER, the ...  \n",
       "3             So shaken as we are, so wan with care,  \n",
       "4         Find we a time for frighted peace to pant,  "
      ]
     },
     "execution_count": 17,
     "metadata": {},
     "output_type": "execute_result"
    }
   ],
   "source": [
    "df.head()"
   ]
  },
  {
   "cell_type": "code",
   "execution_count": 61,
   "metadata": {},
   "outputs": [
    {
     "data": {
      "text/plain": [
       "array([[41, 65,  3, ...,  3, 73, 59],\n",
       "       [30, 59, 66, ...,  3, 68, 55],\n",
       "       [24, 66, 56, ..., 53, 55, 66],\n",
       "       ..., \n",
       "       [27, 52, 53, ..., 65,  3, 60],\n",
       "       [40, 55, 70, ..., 65, 58,  3],\n",
       "       [45, 55,  3, ...,  3, 64, 55]])"
      ]
     },
     "execution_count": 61,
     "metadata": {},
     "output_type": "execute_result"
    }
   ],
   "source": [
    "sentences = df[~df.character.isnull()].line\n",
    "\n",
    "# mapping\n",
    "letters = ['>'] + list(set(''.join(list(sentences))))\n",
    "bw_mapping = dict(enumerate(letters))\n",
    "fw_mapping = dict([(c, ix) for ix, c in enumerate(letters)])\n",
    "\n",
    "sen_sz = 30\n",
    "\n",
    "# dataset\n",
    "sentences = [fw_mapping[c] for s in sentences if len(s)>sen_sz for c in list(s[:sen_sz])]\n",
    "sentences = np.array(sentences).reshape((len(sentences) / sen_sz, sen_sz))\n",
    "sentences"
   ]
  },
  {
   "cell_type": "code",
   "execution_count": 60,
   "metadata": {},
   "outputs": [
    {
     "data": {
      "text/plain": [
       "['W',\n",
       " 'i',\n",
       " 'l',\n",
       " 'l',\n",
       " ' ',\n",
       " 'h',\n",
       " 'o',\n",
       " 'l',\n",
       " 'd',\n",
       " ' ',\n",
       " 'a',\n",
       " 't',\n",
       " ' ',\n",
       " 'W',\n",
       " 'i',\n",
       " 'n',\n",
       " 'd',\n",
       " 's',\n",
       " 'o',\n",
       " 'r',\n",
       " ';',\n",
       " ' ',\n",
       " 's',\n",
       " 'o',\n",
       " ' ',\n",
       " 'i',\n",
       " 'n',\n",
       " 'f',\n",
       " 'o',\n",
       " 'r']"
      ]
     },
     "execution_count": 60,
     "metadata": {},
     "output_type": "execute_result"
    }
   ],
   "source": [
    "[bw_mapping[c] for c in list(sentences[100])]"
   ]
  },
  {
   "cell_type": "code",
   "execution_count": null,
   "metadata": {},
   "outputs": [],
   "source": []
  }
 ],
 "metadata": {
  "kernelspec": {
   "display_name": "Python 2",
   "language": "python",
   "name": "python2"
  },
  "language_info": {
   "codemirror_mode": {
    "name": "ipython",
    "version": 2
   },
   "file_extension": ".py",
   "mimetype": "text/x-python",
   "name": "python",
   "nbconvert_exporter": "python",
   "pygments_lexer": "ipython2",
   "version": "2.7.12"
  }
 },
 "nbformat": 4,
 "nbformat_minor": 2
}
