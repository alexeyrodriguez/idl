{
 "cells": [
  {
   "cell_type": "code",
   "execution_count": 16,
   "metadata": {
    "collapsed": true
   },
   "outputs": [],
   "source": [
    "%matplotlib inline\n",
    "\n",
    "import numpy as np\n",
    "import pandas as pd\n",
    "import matplotlib.pyplot as plt\n",
    "plt.rcParams['figure.figsize'] = (7,7) # Make the figures a bit bigger\n",
    "\n",
    "import tensorflow as tf\n",
    "\n",
    "from tensorflow.contrib.rnn.python.ops import rnn_cell"
   ]
  },
  {
   "cell_type": "code",
   "execution_count": 2,
   "metadata": {
    "collapsed": true
   },
   "outputs": [],
   "source": [
    "df = pd.read_csv('../data/will_play_text.csv', sep=';', header=None, names=['row', 'piece', 'chapter', 'section', 'character', 'line'])"
   ]
  },
  {
   "cell_type": "code",
   "execution_count": 3,
   "metadata": {},
   "outputs": [
    {
     "data": {
      "text/plain": [
       "(111005, 67)"
      ]
     },
     "execution_count": 3,
     "metadata": {},
     "output_type": "execute_result"
    }
   ],
   "source": [
    "sentences = df[~df.character.isnull()].line\n",
    "\n",
    "# mapping\n",
    "letters = ['>', '<'] + list(set(''.join(list(sentences))))\n",
    "nletters = len(letters)\n",
    "\n",
    "bw_mapping = dict(enumerate(letters, 1))\n",
    "fw_mapping = dict([(c, ix) for ix, c in enumerate(letters, 1)])\n",
    "\n",
    "rsen_sz = 64\n",
    "sen_sz = 1 + rsen_sz + 1\n",
    "\n",
    "def pad_sentence(s):\n",
    "    l = len(s)\n",
    "    coded = [fw_mapping[c] for c in ['>'] + list(s) + ['<']]\n",
    "    return coded + [0] * (sen_sz - 1 - l)\n",
    "\n",
    "# dataset\n",
    "sentences = [pad_sentence(s) for s in sentences if len(s)<=rsen_sz]\n",
    "sentences = np.array(sentences)\n",
    "sentences.shape"
   ]
  },
  {
   "cell_type": "code",
   "execution_count": 4,
   "metadata": {},
   "outputs": [
    {
     "data": {
      "text/plain": [
       "array([ 1, 14, 58, 41, 57, 35, 61, 51, 67, 63, 33, 51, 57, 66, 33, 60, 61,\n",
       "       63, 37, 69,  7, 58, 41, 51, 41, 57, 67, 23, 23, 51, 58, 63, 66, 57,\n",
       "       60, 17, 57, 58, 51, 69, 57, 35, 61, 60,  7, 70, 66,  2,  0,  0,  0,\n",
       "        0,  0,  0,  0,  0,  0,  0,  0,  0,  0,  0,  0,  0,  0,  0,  0])"
      ]
     },
     "execution_count": 4,
     "metadata": {},
     "output_type": "execute_result"
    }
   ],
   "source": [
    "sentences[2]"
   ]
  },
  {
   "cell_type": "code",
   "execution_count": 17,
   "metadata": {},
   "outputs": [],
   "source": [
    "hidden_state_size = 256\n",
    "\n",
    "def rnn_text(sen_sz=sen_sz):\n",
    "    cell_state = tf.placeholder(tf.float32, [batch_size, hidden_state_size])\n",
    "    hidden_state = tf.placeholder(tf.float32, [batch_size, hidden_state_size])\n",
    "    init_state = rnn_cell.LSTMStateTuple(cell_state, hidden_state)\n",
    "    \n",
    "    seq_input = tf.placeholder(tf.int64, [None, sen_sz])\n",
    "    \n",
    "    xs = seq_input[:, :-1]\n",
    "    ys = seq_input[:, 1:]\n",
    "    \n",
    "    xs_valid_mask = tf.not_equal(xs, 0)    \n",
    "    xs_seq_len = tf.reduce_sum(tf.to_int32(xs_valid_mask), axis=1)\n",
    "    \n",
    "    xs_one_hot = tf.one_hot(xs, depth=nletters)\n",
    "    ys_one_hot = tf.one_hot(ys, depth=nletters)\n",
    "    \n",
    "    rnn_cell = rnn_cell.LSTMCell(hidden_state_size, state_is_tuple=True)\n",
    "    outputs, state = tf.nn.dynamic_rnn(rnn_cell, xs_one_hot, sequence_length=xs_seq_len, initial_state=init_state)\n",
    "\n",
    "    with tf.variable_scope(\"output\"):\n",
    "        W_hy = tf.get_variable('W_hy', [hidden_state_size, nletters])\n",
    "        B_hy = tf.get_variable('B_hy', [nletters])\n",
    "    \n",
    "    logits = tf.tensordot(outputs, W_hy, axes=1) + B_hy\n",
    "    cross_entropy = tf.nn.softmax_cross_entropy_with_logits(labels=ys_one_hot, logits=logits)\n",
    "    masked_cross_entropy = tf.multiply(cross_entropy, tf.to_float(xs_valid_mask))\n",
    "    summed_entropy = tf.reduce_sum(masked_cross_entropy, 1)\n",
    "    sequence_entropy = tf.divide(summed_entropy, tf.to_float(xs_seq_len))\n",
    "    total_entropy = tf.reduce_mean(sequence_entropy)\n",
    "    \n",
    "    return seq_input, (cell_state, hidden_state), total_entropy"
   ]
  },
  {
   "cell_type": "code",
   "execution_count": 18,
   "metadata": {
    "collapsed": true
   },
   "outputs": [],
   "source": [
    "def my_optimize(sess, train, Xs, loss,\n",
    "                name='train', steps=1000,\n",
    "                optimizer=tf.train.GradientDescentOptimizer(0.5),\n",
    "                dict={}, batch_size=100, report_steps=500):\n",
    "    train_step = optimizer.minimize(loss)\n",
    "    \n",
    "    sess.run(tf.global_variables_initializer())\n",
    "\n",
    "    for i in range(steps):\n",
    "        \n",
    "        # Such a hack\n",
    "        start = (i * batch_size) % train.shape[0]\n",
    "        end = ((i+1) * batch_size) % train.shape[0]\n",
    "        \n",
    "        if start < end:\n",
    "            batch_xs = train[start:end]\n",
    "            dict = dict.copy()# Avoid getting the keys from a different graph\n",
    "            dict[Xs] = batch_xs\n",
    "            _, xloss = sess.run([train_step, loss], feed_dict=dict)\n",
    "            \n",
    "            if i % report_steps == 0:\n",
    "                print('Step {}\\tLoss: {}'.format(i, xloss))"
   ]
  },
  {
   "cell_type": "code",
   "execution_count": 19,
   "metadata": {},
   "outputs": [
    {
     "ename": "UnboundLocalError",
     "evalue": "local variable 'rnn_cell' referenced before assignment",
     "output_type": "error",
     "traceback": [
      "\u001b[0;31m---------------------------------------------------------------------------\u001b[0m",
      "\u001b[0;31mUnboundLocalError\u001b[0m                         Traceback (most recent call last)",
      "\u001b[0;32m<ipython-input-19-2872bb246f1b>\u001b[0m in \u001b[0;36m<module>\u001b[0;34m()\u001b[0m\n\u001b[1;32m      5\u001b[0m     \u001b[0;32mwith\u001b[0m \u001b[0mtf\u001b[0m\u001b[0;34m.\u001b[0m\u001b[0mSession\u001b[0m\u001b[0;34m(\u001b[0m\u001b[0;34m)\u001b[0m \u001b[0;32mas\u001b[0m \u001b[0msess\u001b[0m\u001b[0;34m:\u001b[0m\u001b[0;34m\u001b[0m\u001b[0m\n\u001b[1;32m      6\u001b[0m \u001b[0;34m\u001b[0m\u001b[0m\n\u001b[0;32m----> 7\u001b[0;31m         \u001b[0mXs\u001b[0m\u001b[0;34m,\u001b[0m \u001b[0;34m(\u001b[0m\u001b[0mcell_state\u001b[0m\u001b[0;34m,\u001b[0m \u001b[0mhidden_state\u001b[0m\u001b[0;34m)\u001b[0m\u001b[0;34m,\u001b[0m \u001b[0mloss\u001b[0m \u001b[0;34m=\u001b[0m \u001b[0mrnn_text\u001b[0m\u001b[0;34m(\u001b[0m\u001b[0;34m)\u001b[0m\u001b[0;34m\u001b[0m\u001b[0m\n\u001b[0m\u001b[1;32m      8\u001b[0m \u001b[0;34m\u001b[0m\u001b[0m\n\u001b[1;32m      9\u001b[0m         \u001b[0moptimizer\u001b[0m \u001b[0;34m=\u001b[0m \u001b[0mtf\u001b[0m\u001b[0;34m.\u001b[0m\u001b[0mtrain\u001b[0m\u001b[0;34m.\u001b[0m\u001b[0mAdamOptimizer\u001b[0m\u001b[0;34m(\u001b[0m\u001b[0;34m)\u001b[0m\u001b[0;34m\u001b[0m\u001b[0m\n",
      "\u001b[0;32m<ipython-input-17-15eef1993094>\u001b[0m in \u001b[0;36mrnn_text\u001b[0;34m(sen_sz)\u001b[0m\n\u001b[1;32m      4\u001b[0m     \u001b[0mcell_state\u001b[0m \u001b[0;34m=\u001b[0m \u001b[0mtf\u001b[0m\u001b[0;34m.\u001b[0m\u001b[0mplaceholder\u001b[0m\u001b[0;34m(\u001b[0m\u001b[0mtf\u001b[0m\u001b[0;34m.\u001b[0m\u001b[0mfloat32\u001b[0m\u001b[0;34m,\u001b[0m \u001b[0;34m[\u001b[0m\u001b[0mbatch_size\u001b[0m\u001b[0;34m,\u001b[0m \u001b[0mhidden_state_size\u001b[0m\u001b[0;34m]\u001b[0m\u001b[0;34m)\u001b[0m\u001b[0;34m\u001b[0m\u001b[0m\n\u001b[1;32m      5\u001b[0m     \u001b[0mhidden_state\u001b[0m \u001b[0;34m=\u001b[0m \u001b[0mtf\u001b[0m\u001b[0;34m.\u001b[0m\u001b[0mplaceholder\u001b[0m\u001b[0;34m(\u001b[0m\u001b[0mtf\u001b[0m\u001b[0;34m.\u001b[0m\u001b[0mfloat32\u001b[0m\u001b[0;34m,\u001b[0m \u001b[0;34m[\u001b[0m\u001b[0mbatch_size\u001b[0m\u001b[0;34m,\u001b[0m \u001b[0mhidden_state_size\u001b[0m\u001b[0;34m]\u001b[0m\u001b[0;34m)\u001b[0m\u001b[0;34m\u001b[0m\u001b[0m\n\u001b[0;32m----> 6\u001b[0;31m     \u001b[0minit_state\u001b[0m \u001b[0;34m=\u001b[0m \u001b[0mrnn_cell\u001b[0m\u001b[0;34m.\u001b[0m\u001b[0mLSTMStateTuple\u001b[0m\u001b[0;34m(\u001b[0m\u001b[0mcell_state\u001b[0m\u001b[0;34m,\u001b[0m \u001b[0mhidden_state\u001b[0m\u001b[0;34m)\u001b[0m\u001b[0;34m\u001b[0m\u001b[0m\n\u001b[0m\u001b[1;32m      7\u001b[0m \u001b[0;34m\u001b[0m\u001b[0m\n\u001b[1;32m      8\u001b[0m     \u001b[0mseq_input\u001b[0m \u001b[0;34m=\u001b[0m \u001b[0mtf\u001b[0m\u001b[0;34m.\u001b[0m\u001b[0mplaceholder\u001b[0m\u001b[0;34m(\u001b[0m\u001b[0mtf\u001b[0m\u001b[0;34m.\u001b[0m\u001b[0mint64\u001b[0m\u001b[0;34m,\u001b[0m \u001b[0;34m[\u001b[0m\u001b[0;32mNone\u001b[0m\u001b[0;34m,\u001b[0m \u001b[0msen_sz\u001b[0m\u001b[0;34m]\u001b[0m\u001b[0;34m)\u001b[0m\u001b[0;34m\u001b[0m\u001b[0m\n",
      "\u001b[0;31mUnboundLocalError\u001b[0m: local variable 'rnn_cell' referenced before assignment"
     ]
    }
   ],
   "source": [
    "batch_size = 256\n",
    "\n",
    "g = tf.Graph()\n",
    "with g.as_default():\n",
    "    with tf.Session() as sess:\n",
    "        \n",
    "        Xs, (cell_state, hidden_state), loss = rnn_text()\n",
    "        \n",
    "        optimizer = tf.train.AdamOptimizer()\n",
    "        my_optimize(sess,\n",
    "                    sentences,\n",
    "                    Xs,\n",
    "                    loss,\n",
    "                    steps=31,\n",
    "                    report_steps=500,\n",
    "                    name='train-1',\n",
    "                    batch_size=batch_size,\n",
    "                    dict={cell_state: np.zeros((batch_size, hidden_state_size)),\n",
    "                          hidden_state: np.zeros((batch_size, hidden_state_size)),\n",
    "                         },\n",
    "                    optimizer=optimizer)"
   ]
  },
  {
   "cell_type": "code",
   "execution_count": 15,
   "metadata": {
    "scrolled": false
   },
   "outputs": [
    {
     "data": {
      "text/plain": [
       "'1.1.0'"
      ]
     },
     "execution_count": 15,
     "metadata": {},
     "output_type": "execute_result"
    }
   ],
   "source": [
    "tf.__version__"
   ]
  },
  {
   "cell_type": "code",
   "execution_count": null,
   "metadata": {
    "collapsed": true
   },
   "outputs": [],
   "source": []
  }
 ],
 "metadata": {
  "kernelspec": {
   "display_name": "Python 3",
   "language": "python",
   "name": "python3"
  },
  "language_info": {
   "codemirror_mode": {
    "name": "ipython",
    "version": 3
   },
   "file_extension": ".py",
   "mimetype": "text/x-python",
   "name": "python",
   "nbconvert_exporter": "python",
   "pygments_lexer": "ipython3",
   "version": "3.4.3"
  }
 },
 "nbformat": 4,
 "nbformat_minor": 2
}
